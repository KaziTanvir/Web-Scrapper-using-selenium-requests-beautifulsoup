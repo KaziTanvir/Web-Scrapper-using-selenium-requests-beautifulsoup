{
 "cells": [
  {
   "cell_type": "code",
   "execution_count": 1,
   "id": "355b3462",
   "metadata": {},
   "outputs": [],
   "source": [
    "from bs4 import BeautifulSoup\n",
    "import requests"
   ]
  },
  {
   "cell_type": "code",
   "execution_count": null,
   "id": "3901b16c",
   "metadata": {},
   "outputs": [],
   "source": [
    "url = \"https://www.coles.com.au/search?q=baby%20food&page=1\"\n",
    "response = requests.get(url)\n",
    "response"
   ]
  },
  {
   "cell_type": "code",
   "execution_count": null,
   "id": "dee1335e",
   "metadata": {},
   "outputs": [],
   "source": [
    "data = response.text\n",
    "data"
   ]
  },
  {
   "cell_type": "code",
   "execution_count": 2,
   "id": "6a53732c",
   "metadata": {},
   "outputs": [],
   "source": [
    "from selenium import webdriver\n",
    "import os\n",
    "\n",
    "path = 'H:\\Python\\chromedriver_win32\\chromedriver.exe'\n",
    "driver = webdriver.Chrome(path)"
   ]
  },
  {
   "cell_type": "code",
   "execution_count": null,
   "id": "dee224d1",
   "metadata": {},
   "outputs": [],
   "source": [
    "soup = BeautifulSoup(data, 'html.parser')"
   ]
  },
  {
   "cell_type": "code",
   "execution_count": 36,
   "id": "82df0771",
   "metadata": {},
   "outputs": [],
   "source": [
    "# Python program to update\n",
    "# JSON\n",
    " \n",
    " \n",
    "import json\n",
    " \n",
    " \n",
    "with open(\"data.json\", mode='w', encoding='utf-8') as f:\n",
    "    json.dump([], f)\n",
    "\n"
   ]
  },
  {
   "cell_type": "code",
   "execution_count": null,
   "id": "f13e84f9",
   "metadata": {},
   "outputs": [],
   "source": [
    "\n",
    "    "
   ]
  },
  {
   "cell_type": "code",
   "execution_count": 31,
   "id": "3f900698",
   "metadata": {},
   "outputs": [],
   "source": [
    "data={}\n",
    "c=0"
   ]
  },
  {
   "cell_type": "code",
   "execution_count": 41,
   "id": "becb5ed8",
   "metadata": {},
   "outputs": [],
   "source": [
    "for i in range(1,8):\n",
    "    \n",
    "    url =url = \"https://www.coles.com.au/search?q=baby%20food&page=\"+str(i)\n",
    "    response = requests.get(url)\n",
    "    data = response.text\n",
    "    soup = BeautifulSoup(data, 'html.parser')\n",
    "    tags = soup.find_all(\"section\",{\"class\":\"sc-a9838a83-0\"})\n",
    "    for tag in tags:\n",
    "        price_tag = tag.find(\"span\",{\"class\":\"price__value\"})\n",
    "        if price_tag:\n",
    "            product_name = tag.find(\"h2\",{\"class\":\"LinesEllipsis\"}).text\n",
    "            product_url = tag.find(\"a\",{\"class\":\"product__link\"}).get('href')\n",
    "            price = price_tag.text\n",
    "            unit_size = tag.find(\"span\",{\"class\":\"price__calculation_method\"}).text\n",
    "            plink=\"https://www.coles.com.au/\"+product_url\n",
    "            product_response = requests.get(plink)\n",
    "            product_data= product_response.text\n",
    "            product_soup = BeautifulSoup(product_data,\"html.parser\")\n",
    "            img_url = product_soup.find('img').get('src')\n",
    "            driver.get(plink)\n",
    "            product_details = product_soup.find('div',{\"class\":\"sc-a2942c6c-0 kwRUuP product-details product-details\"})\n",
    "        #pd= product_details.find('p').text if product_details else \"\"\n",
    "            if product_details:\n",
    "                pd= product_details.find('p')\n",
    "                details = pd.text if pd else \"\"\n",
    "            else:\n",
    "                details=\"\"\n",
    "                \n",
    "                \n",
    "            ing_tag = product_soup.find('div',{'id':'ingredients-control'})\n",
    "            if ing_tag:\n",
    "                ing_div = ing_tag.find(\"div\",{\"class\":\"sc-358dde23-5 gyWOei coles-targeting-AccordionAccordionItemContentContainer\"})\n",
    "                ing = ing_div.find('div').text if ing_div else \"\"\n",
    "            else:\n",
    "                ing=\"\"\n",
    "       \n",
    "            allergen_tag = product_soup.find('div',{'id':'allergen-control'})\n",
    "            if allergen_tag:\n",
    "                allergen_div = allergen_tag.find(\"div\",{\"class\":\"sc-358dde23-5 gyWOei coles-targeting-AccordionAccordionItemContentContainer\"})\n",
    "                allergen = allergen_div.find('div').text if allergen_div else \"\"\n",
    "            else:\n",
    "                allergen=\"\"\n",
    "            \n",
    "            upc = driver.find_element_by_css_selector(\"p[data-testid='product-code']\")\n",
    "            upc =upc.text\n",
    "            units = driver.find_element_by_css_selector(\"p[data-testid='retail-limit']\")\n",
    "            units = units.text\n",
    "            temp = {}\n",
    "            temp['Product_name'] = product_name\n",
    "            temp['Product_details'] = details\n",
    "            temp['price']=price\n",
    "            temp['Ingredients'] = ing\n",
    "            temp['url'] = plink\n",
    "            temp['unit_size'] = unit_size\n",
    "            temp['Allergen'] = allergen\n",
    "            temp['upc']=upc \n",
    "            temp['Retail_limit']=units\n",
    "            with open('data.json','a') as f:\n",
    "                json.dump(temp,f,indent=2)\n",
    "            \n",
    "                \n",
    "        \n",
    "        else:\n",
    "            continue\n",
    "        "
   ]
  },
  {
   "cell_type": "code",
   "execution_count": null,
   "id": "810c2b65",
   "metadata": {},
   "outputs": [],
   "source": []
  },
  {
   "cell_type": "code",
   "execution_count": null,
   "id": "6fc601f4",
   "metadata": {},
   "outputs": [],
   "source": []
  }
 ],
 "metadata": {
  "kernelspec": {
   "display_name": "Python 3 (ipykernel)",
   "language": "python",
   "name": "python3"
  },
  "language_info": {
   "codemirror_mode": {
    "name": "ipython",
    "version": 3
   },
   "file_extension": ".py",
   "mimetype": "text/x-python",
   "name": "python",
   "nbconvert_exporter": "python",
   "pygments_lexer": "ipython3",
   "version": "3.9.7"
  }
 },
 "nbformat": 4,
 "nbformat_minor": 5
}
